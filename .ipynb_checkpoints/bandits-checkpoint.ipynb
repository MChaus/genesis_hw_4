{
 "cells": [
  {
   "cell_type": "code",
   "execution_count": 1,
   "metadata": {
    "collapsed": true
   },
   "outputs": [],
   "source": [
    "import pandas as pd\n",
    "import numpy as np\n",
    "import os"
   ]
  },
  {
   "cell_type": "markdown",
   "metadata": {},
   "source": [
    "Simple class for each bandit\n",
    "<dr>\n",
    "Class to maintain the UCB_1 algorithm"
   ]
  },
  {
   "cell_type": "code",
   "execution_count": 2,
   "metadata": {
    "collapsed": true
   },
   "outputs": [],
   "source": [
    "class Bandit:\n",
    "    total_number = 0\n",
    "    total_sum = 0\n",
    "    def __init__(self, name, next_value, *args):\n",
    "        self.name = name\n",
    "        self.next_value = next_value\n",
    "        self.args = args\n",
    "        self.avg_reward = self.next_value(*self.args)\n",
    "        self.number_actions = 1\n",
    "        Bandit.total_sum += self.avg_reward \n",
    "        Bandit.total_number += 1\n",
    "        \n",
    "        \n",
    "    def action(self):\n",
    "        result = self.next_value(*self.args)\n",
    "        self.number_actions += 1\n",
    "        self.avg_reward = (self.avg_reward * (self.number_actions - 1) + result)/self.number_actions\n",
    "        Bandit.total_number += 1\n",
    "        Bandit.total_sum += result \n",
    "        "
   ]
  },
  {
   "cell_type": "markdown",
   "metadata": {},
   "source": [
    "Opening input data"
   ]
  },
  {
   "cell_type": "code",
   "execution_count": 3,
   "metadata": {},
   "outputs": [
    {
     "name": "stdout",
     "output_type": "stream",
     "text": [
      "All files were successfully found!\n"
     ]
    }
   ],
   "source": [
    "project_path = os.path.dirname(os.path.realpath('__file__'))\n",
    "input_path = project_path + '\\\\input'\n",
    "if not os.path.exists(input_path):\n",
    "    raise path_error('\\n\"{}\"  doesn\\'t exist \\nplease, check its existence with all input data'.format(input_path))\n",
    "\n",
    "\n",
    "bandits_path = input_path + '\\\\Bandits income data.csv'\n",
    "if not os.path.exists(bandits_path):\n",
    "    raise path_error('\\n\"{}\"  doesn\\'t exist \\nplease, check its existence with all input data'.format(bandits_path))\n",
    "    \n",
    "print('All files were successfully found!')"
   ]
  },
  {
   "cell_type": "code",
   "execution_count": 4,
   "metadata": {},
   "outputs": [
    {
     "data": {
      "text/html": [
       "<div>\n",
       "<style>\n",
       "    .dataframe thead tr:only-child th {\n",
       "        text-align: right;\n",
       "    }\n",
       "\n",
       "    .dataframe thead th {\n",
       "        text-align: left;\n",
       "    }\n",
       "\n",
       "    .dataframe tbody tr th {\n",
       "        vertical-align: top;\n",
       "    }\n",
       "</style>\n",
       "<table border=\"1\" class=\"dataframe\">\n",
       "  <thead>\n",
       "    <tr style=\"text-align: right;\">\n",
       "      <th></th>\n",
       "      <th>Bandit 1</th>\n",
       "      <th>Bandit 2</th>\n",
       "      <th>Bandit 3</th>\n",
       "    </tr>\n",
       "  </thead>\n",
       "  <tbody>\n",
       "    <tr>\n",
       "      <th>0</th>\n",
       "      <td>0</td>\n",
       "      <td>0</td>\n",
       "      <td>0</td>\n",
       "    </tr>\n",
       "    <tr>\n",
       "      <th>1</th>\n",
       "      <td>0</td>\n",
       "      <td>0</td>\n",
       "      <td>1</td>\n",
       "    </tr>\n",
       "    <tr>\n",
       "      <th>2</th>\n",
       "      <td>0</td>\n",
       "      <td>0</td>\n",
       "      <td>1</td>\n",
       "    </tr>\n",
       "    <tr>\n",
       "      <th>3</th>\n",
       "      <td>1</td>\n",
       "      <td>0</td>\n",
       "      <td>1</td>\n",
       "    </tr>\n",
       "    <tr>\n",
       "      <th>4</th>\n",
       "      <td>0</td>\n",
       "      <td>0</td>\n",
       "      <td>1</td>\n",
       "    </tr>\n",
       "  </tbody>\n",
       "</table>\n",
       "</div>"
      ],
      "text/plain": [
       "   Bandit 1  Bandit 2   Bandit 3\n",
       "0         0          0         0\n",
       "1         0          0         1\n",
       "2         0          0         1\n",
       "3         1          0         1\n",
       "4         0          0         1"
      ]
     },
     "execution_count": 4,
     "metadata": {},
     "output_type": "execute_result"
    }
   ],
   "source": [
    "bandits_csv = pd.read_csv(bandits_path)\n",
    "bandits_csv.head()"
   ]
  },
  {
   "cell_type": "code",
   "execution_count": 5,
   "metadata": {},
   "outputs": [
    {
     "data": {
      "text/plain": [
       "Bandit 1     501\n",
       "Bandit 2     481\n",
       "Bandit 3     500\n",
       "dtype: int64"
      ]
     },
     "execution_count": 5,
     "metadata": {},
     "output_type": "execute_result"
    }
   ],
   "source": [
    "bandits_csv.sum()"
   ]
  },
  {
   "cell_type": "markdown",
   "metadata": {},
   "source": [
    "Initialisation"
   ]
  },
  {
   "cell_type": "code",
   "execution_count": 6,
   "metadata": {},
   "outputs": [
    {
     "name": "stdout",
     "output_type": "stream",
     "text": [
      "Action #1: \n",
      "Bandit: Bandit 1 \n",
      "Total sum: 0\n",
      "Action #2: \n",
      "Bandit: Bandit 2  \n",
      "Total sum: 0\n",
      "Action #3: \n",
      "Bandit: Bandit 3 \n",
      "Total sum: 0\n"
     ]
    }
   ],
   "source": [
    "bandits = []\n",
    "for bandit in bandits_csv.columns:\n",
    "    bandits.append(Bandit(bandit, lambda x: next(x), iter(bandits_csv[bandit])))\n",
    "    print('Action #{}: \\nBandit: {} \\nTotal sum: {}'.format(Bandit.total_number, bandits[-1].name, Bandit.total_sum))"
   ]
  },
  {
   "cell_type": "markdown",
   "metadata": {},
   "source": [
    "Realisation of UCB_1 algorithm which converges to the optimal solution"
   ]
  },
  {
   "cell_type": "code",
   "execution_count": 7,
   "metadata": {},
   "outputs": [
    {
     "ename": "SyntaxError",
     "evalue": "invalid syntax (<ipython-input-7-5e450f51f8f4>, line 4)",
     "output_type": "error",
     "traceback": [
      "\u001b[1;36m  File \u001b[1;32m\"<ipython-input-7-5e450f51f8f4>\"\u001b[1;36m, line \u001b[1;32m4\u001b[0m\n\u001b[1;33m    max(bandits, key=lambda item: item.avg_reward + np.sqrt(2 * np.log(Bandit.total_number)/item.number_actions)).action()\u001b[0m\n\u001b[1;37m      ^\u001b[0m\n\u001b[1;31mSyntaxError\u001b[0m\u001b[1;31m:\u001b[0m invalid syntax\n"
     ]
    }
   ],
   "source": [
    "while True:\n",
    "    try:\n",
    "        current_bandit = max(bandits, key=lambda item: item.avg_reward + np.sqrt(2 * np.log(Bandit.total_number)/item.number_actions)).name\n",
    "        max(bandits, key=lambda item: item.avg_reward + np.sqrt(2 * np.log(Bandit.total_number)/item.number_actions)).action()\n",
    "        print('Action #{}: \\nBandit: {} \\nTotal sum: {}\\n\\n'.format(Bandit.total_number, current_bandit, Bandit.total_sum))\n",
    "    except StopIteration:\n",
    "        break\n",
    "print('Finish!')\n",
    "for bandit in bandits:\n",
    "    print('Bandit {} was launched {} times'.format(bandit.name, bandit.number_actions))"
   ]
  }
 ],
 "metadata": {
  "kernelspec": {
   "display_name": "Python 3",
   "language": "python",
   "name": "python3"
  },
  "language_info": {
   "codemirror_mode": {
    "name": "ipython",
    "version": 3
   },
   "file_extension": ".py",
   "mimetype": "text/x-python",
   "name": "python",
   "nbconvert_exporter": "python",
   "pygments_lexer": "ipython3",
   "version": "3.6.3"
  }
 },
 "nbformat": 4,
 "nbformat_minor": 2
}
