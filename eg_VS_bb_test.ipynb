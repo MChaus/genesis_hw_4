{
 "cells": [
  {
   "cell_type": "code",
   "execution_count": 1,
   "metadata": {
    "collapsed": true
   },
   "outputs": [],
   "source": [
    "import pandas as pd\n",
    "import numpy as np\n",
    "import os\n",
    "import random"
   ]
  },
  {
   "cell_type": "code",
   "execution_count": 2,
   "metadata": {
    "collapsed": true
   },
   "outputs": [],
   "source": [
    "class Bandit:\n",
    "    total_number = 0\n",
    "    total_sum = 0\n",
    "    def __init__(self, name, next_value, *args):\n",
    "        self.name = name\n",
    "        self.next_value = next_value\n",
    "        self.args = args\n",
    "        self.avg_reward = 0\n",
    "        self.number_actions = 0\n",
    "        \n",
    "        \n",
    "    def action(self):\n",
    "        result = self.next_value(*self.args)\n",
    "        self.number_actions += 1\n",
    "        self.avg_reward = (self.avg_reward * (self.number_actions - 1) + result)/self.number_actions\n",
    "        Bandit.total_number += 1\n",
    "        Bandit.total_sum += result "
   ]
  },
  {
   "cell_type": "code",
   "execution_count": 3,
   "metadata": {
    "collapsed": true
   },
   "outputs": [],
   "source": [
    "class BayesianBandit():\n",
    "    total_number = 0\n",
    "    total_sum = 0\n",
    "    def __init__(self, name, next_value, *args):\n",
    "        self.name = name\n",
    "        self.next_value = next_value\n",
    "        self.args = args\n",
    "        self.number_actions = 0\n",
    "        self.a = 1\n",
    "        self.b = 1\n",
    "        \n",
    "    def action(self):\n",
    "        result = self.next_value(*self.args)\n",
    "        self.number_actions += 1\n",
    "        self.a += result\n",
    "        self.b += 1 - result\n",
    "        BayesianBandit.total_number += 1\n",
    "        BayesianBandit.total_sum += result "
   ]
  },
  {
   "cell_type": "code",
   "execution_count": 4,
   "metadata": {
    "collapsed": true
   },
   "outputs": [],
   "source": [
    "def generator(n, p):\n",
    "    return [1 * (np.random.rand() > p) for i in range(0, n)]"
   ]
  },
  {
   "cell_type": "code",
   "execution_count": 5,
   "metadata": {},
   "outputs": [],
   "source": [
    "all_actions = [generator(1000, (i + 1)/10) for i in range(0, 10)]\n",
    "bandits = []\n",
    "i = 0\n",
    "for bandit in all_actions:\n",
    "    i += 1\n",
    "    bandits.append(Bandit('bandit' + str(i), lambda x: next(x), iter(bandit)))"
   ]
  },
  {
   "cell_type": "markdown",
   "metadata": {},
   "source": [
    "Epsilon greedy"
   ]
  },
  {
   "cell_type": "code",
   "execution_count": 6,
   "metadata": {},
   "outputs": [
    {
     "name": "stdout",
     "output_type": "stream",
     "text": [
      "Finish!\n",
      "Bandit bandit1 was launched 892 times\n",
      "Bandit bandit2 was launched 10 times\n",
      "Bandit bandit3 was launched 15 times\n",
      "Bandit bandit4 was launched 13 times\n",
      "Bandit bandit5 was launched 7 times\n",
      "Bandit bandit6 was launched 12 times\n",
      "Bandit bandit7 was launched 9 times\n",
      "Bandit bandit8 was launched 14 times\n",
      "Bandit bandit9 was launched 15 times\n",
      "Bandit bandit10 was launched 13 times\n",
      "Total reward = 856\n",
      "Average reward = 0.856\n"
     ]
    }
   ],
   "source": [
    "actions = 0\n",
    "while actions < 1000:\n",
    "    try:\n",
    "        if random.random() > 0.1:\n",
    "            current_bandit = max(bandits, key=lambda item: item.avg_reward)\n",
    "        else:\n",
    "            current_bandit = random.choice(bandits)\n",
    "        current_bandit.action()\n",
    "        actions += 1\n",
    "    except StopIteration:\n",
    "        break\n",
    "\n",
    "print('Finish!')\n",
    "for bandit in bandits:\n",
    "    print('Bandit {} was launched {} times'.format(bandit.name, bandit.number_actions))\n",
    "print('Total reward = {}'.format(Bandit.total_sum))\n",
    "print('Average reward = {}'.format(Bandit.total_sum/Bandit.total_number))"
   ]
  },
  {
   "cell_type": "markdown",
   "metadata": {},
   "source": [
    "Bayesian bandit"
   ]
  },
  {
   "cell_type": "code",
   "execution_count": 7,
   "metadata": {
    "collapsed": true
   },
   "outputs": [],
   "source": [
    "bandits = []\n",
    "i = 0\n",
    "for bandit in all_actions:\n",
    "    i += 1\n",
    "    bandits.append(BayesianBandit('bandit' + str(i), lambda x: next(x), iter(bandit)))"
   ]
  },
  {
   "cell_type": "code",
   "execution_count": 8,
   "metadata": {},
   "outputs": [
    {
     "name": "stdout",
     "output_type": "stream",
     "text": [
      "Finish!\n",
      "Bandit bandit1 was launched 880 times\n",
      "Bandit bandit2 was launched 79 times\n",
      "Bandit bandit3 was launched 16 times\n",
      "Bandit bandit4 was launched 4 times\n",
      "Bandit bandit5 was launched 9 times\n",
      "Bandit bandit6 was launched 2 times\n",
      "Bandit bandit7 was launched 2 times\n",
      "Bandit bandit8 was launched 3 times\n",
      "Bandit bandit9 was launched 3 times\n",
      "Bandit bandit10 was launched 2 times\n",
      "Total reward = 884\n",
      "Average reward = 0.884\n"
     ]
    }
   ],
   "source": [
    "actions = 0\n",
    "while actions < 1000:\n",
    "    try:\n",
    "        current_bandit = max(bandits, key=lambda item: np.random.beta(item.a, item.b))\n",
    "        current_bandit.action()\n",
    "        actions += 1\n",
    "    except StopIteration:\n",
    "        break\n",
    "        \n",
    "print('Finish!')\n",
    "for bandit in bandits:\n",
    "    print('Bandit {} was launched {} times'.format(bandit.name, bandit.number_actions))\n",
    "print('Total reward = {}'.format(BayesianBandit.total_sum))\n",
    "print('Average reward = {}'.format(BayesianBandit.total_sum/BayesianBandit.total_number))"
   ]
  },
  {
   "cell_type": "markdown",
   "metadata": {},
   "source": [
    "And of course UCB1 Bandit"
   ]
  },
  {
   "cell_type": "code",
   "execution_count": 9,
   "metadata": {
    "collapsed": true
   },
   "outputs": [],
   "source": [
    "Bandit.total_sum = 0\n",
    "Bandit.total_number = 0\n",
    "bandits = []\n",
    "i = 0\n",
    "for bandit in all_actions:\n",
    "    i += 1\n",
    "    bandits.append(Bandit('bandit' + str(i), lambda x: next(x), iter(bandit)))\n",
    "    bandits[-1].action()"
   ]
  },
  {
   "cell_type": "code",
   "execution_count": 10,
   "metadata": {},
   "outputs": [
    {
     "name": "stdout",
     "output_type": "stream",
     "text": [
      "Finish!\n",
      "Bandit bandit1 was launched 475 times\n",
      "Bandit bandit2 was launched 144 times\n",
      "Bandit bandit3 was launched 188 times\n",
      "Bandit bandit4 was launched 46 times\n",
      "Bandit bandit5 was launched 45 times\n",
      "Bandit bandit6 was launched 33 times\n",
      "Bandit bandit7 was launched 29 times\n",
      "Bandit bandit8 was launched 22 times\n",
      "Bandit bandit9 was launched 16 times\n",
      "Bandit bandit10 was launched 12 times\n",
      "Total reward = 776\n",
      "Average reward = 0.7683168316831683\n"
     ]
    }
   ],
   "source": [
    "actions = 0\n",
    "while actions < 1000:\n",
    "    try:\n",
    "        current_bandit = max(bandits, key=lambda item: item.avg_reward + np.sqrt(2 * np.log(Bandit.total_number)/item.number_actions))\n",
    "        current_bandit.action()\n",
    "        actions += 1\n",
    "    except StopIteration:\n",
    "        break\n",
    "        \n",
    "print('Finish!')\n",
    "for bandit in bandits:\n",
    "    print('Bandit {} was launched {} times'.format(bandit.name, bandit.number_actions))\n",
    "print('Total reward = {}'.format(Bandit.total_sum))\n",
    "print('Average reward = {}'.format(Bandit.total_sum/Bandit.total_number))"
   ]
  },
  {
   "cell_type": "markdown",
   "metadata": {},
   "source": [
    "#### Conclusion:\n",
    "Best algorihm is Bayesian algorihm, because it gives us the best outcome (884).\n",
    "<dr>\n",
    "Second is Epsilon greedy (856).\n",
    "<dr>\n",
    "And the last plaсe goes to UCB1 algorihm (776)."
   ]
  }
 ],
 "metadata": {
  "kernelspec": {
   "display_name": "Python 3",
   "language": "python",
   "name": "python3"
  },
  "language_info": {
   "codemirror_mode": {
    "name": "ipython",
    "version": 3
   },
   "file_extension": ".py",
   "mimetype": "text/x-python",
   "name": "python",
   "nbconvert_exporter": "python",
   "pygments_lexer": "ipython3",
   "version": "3.6.3"
  }
 },
 "nbformat": 4,
 "nbformat_minor": 2
}
